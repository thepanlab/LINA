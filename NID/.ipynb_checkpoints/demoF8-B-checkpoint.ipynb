{
 "cells": [
  {
   "cell_type": "code",
   "execution_count": null,
   "metadata": {},
   "outputs": [],
   "source": [
    "import sys  \n",
    "sys.path.insert(0, './')\n",
    "import torch\n",
    "import numpy as np\n",
    "from neural_interaction_detection import get_interactions\n",
    "from multilayer_perceptron import MLP, train, get_weights\n",
    "from utils import preprocess_data, get_pairwise_auc, get_anyorder_R_precision, set_seed, print_rankings"
   ]
  },
  {
   "cell_type": "code",
   "execution_count": null,
   "metadata": {},
   "outputs": [],
   "source": [
    "use_main_effect_nets = False # toggle this to use \"main effect\" nets\n",
    "num_samples = 10000\n",
    "num_features = 100"
   ]
  },
  {
   "cell_type": "markdown",
   "metadata": {},
   "source": [
    "## Train a multilayer perceptron (MLP)"
   ]
  },
  {
   "cell_type": "code",
   "execution_count": null,
   "metadata": {},
   "outputs": [],
   "source": [
    "def get_precision(interactions, ground_truth):\n",
    "\n",
    "    R = len(ground_truth)\n",
    "    recovered_gt = []\n",
    "    counter = 0\n",
    "\n",
    "    for inter, strength in interactions:\n",
    "        if counter == R:\n",
    "            break\n",
    "\n",
    "        inter_set = set(inter)\n",
    "        if any(inter_set <= gt for gt in ground_truth):\n",
    "            counter += 1\n",
    "    R_precision = counter / R\n",
    "\n",
    "    return R_precision"
   ]
  },
  {
   "cell_type": "code",
   "execution_count": null,
   "metadata": {},
   "outputs": [],
   "source": [
    "Rs=[]\n",
    "x_test=np.genfromtxt(\"../x_testF3b.csv\")\n",
    "y_test=np.genfromtxt(\"../y_testF3b.csv\")\n",
    "gt=[{1,2},{3,4},{5,6},{5,8},{6,8},{8,9},{8,10},{9,10}]\n",
    "\n",
    "loss=[]\n",
    "print(x_test.shape[1])\n",
    "for i in range(10):\n",
    "    x_train=np.genfromtxt(\"../x_trainF3\"+str(i)+\"b.csv\")\n",
    "    y_train=np.genfromtxt(\"../y_trainF3\"+str(i)+\"b.csv\")\n",
    "    x_val=np.genfromtxt(\"../x_valF3\"+str(i)+\"b.csv\")\n",
    "    y_val=np.genfromtxt(\"../y_valF3\"+str(i)+\"b.csv\")\n",
    "    data_loaders = preprocess_data(x_train, y_train,x_val,y_val,x_test,y_test, std_scale=False, get_torch_loaders=True)\n",
    "    device = torch.device(\"cpu\")\n",
    "    model = MLP(x_train.shape[1], [140, 100, 60, 20], use_main_effect_nets=use_main_effect_nets).to(device)\n",
    "    model, mlp_loss = train(model, data_loaders, device=device,nepochs=150, learning_rate=1e-2, l1_const = 1e-5, verbose=True,early_stopping=False)\n",
    "    model_weights = get_weights(model)\n",
    "    print(mlp_loss)\n",
    "    pairwise_interactions = get_interactions(model_weights, pairwise=True, one_indexed=True)\n",
    "    r_prec = get_precision(pairwise_interactions[:len(gt)], gt)\n",
    "    print(\"Precision\", r_prec,pairwise_interactions[:len(gt)])\n",
    "    Rs.append(r_prec)"
   ]
  },
  {
   "cell_type": "code",
   "execution_count": null,
   "metadata": {},
   "outputs": [],
   "source": [
    "mean=np.mean(Rs)\n",
    "sd=np.std(Rs)\n",
    "print(mean,sd)"
   ]
  }
 ],
 "metadata": {
  "kernelspec": {
   "display_name": "Python 3",
   "language": "python",
   "name": "python3"
  },
  "language_info": {
   "codemirror_mode": {
    "name": "ipython",
    "version": 3
   },
   "file_extension": ".py",
   "mimetype": "text/x-python",
   "name": "python",
   "nbconvert_exporter": "python",
   "pygments_lexer": "ipython3",
   "version": "3.6.4"
  }
 },
 "nbformat": 4,
 "nbformat_minor": 2
}
